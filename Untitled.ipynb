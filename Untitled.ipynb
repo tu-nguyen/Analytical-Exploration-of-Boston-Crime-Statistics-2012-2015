{
 "cells": [
  {
   "cell_type": "markdown",
   "metadata": {},
   "source": [
    "# Analytical Exploration of Boston Crime Statistics (2012-2015)\n",
    "\n",
    "## Content \n",
    "\n",
    "    1. Introduction\n",
    "    2. Import\n",
    "    3. Read Data\n",
    "    4. Clean Data\n",
    "    5. Analyze and \n",
    "    6. Add weather data/clean"
   ]
  },
  {
   "cell_type": "markdown",
   "metadata": {},
   "source": [
    "# 1. Introduction\n",
    "\n",
    "This is an updated versionof  an EDA I previously did last year (2017) using the same data set. This EDA examines the crime statistic from 2012 to 2015 using data provided by data.boston.gov. <Expand later>"
   ]
  },
  {
   "cell_type": "markdown",
   "metadata": {},
   "source": [
    "# 2. Import"
   ]
  },
  {
   "cell_type": "code",
   "execution_count": 1,
   "metadata": {},
   "outputs": [],
   "source": [
    "# numpy for math and pandas for data processing\n",
    "import numpy as np\n",
    "import pandas as pd\n",
    "\n",
    "# For visualization\n",
    "import matplotlib.pyplot as plt\n",
    "%matplotlib inline\n",
    "import seaborn as sns\n",
    "\n",
    "plt.style.use('seaborn')"
   ]
  },
  {
   "cell_type": "markdown",
   "metadata": {},
   "source": [
    "# 3. Read Data"
   ]
  },
  {
   "cell_type": "code",
   "execution_count": 11,
   "metadata": {
    "scrolled": false
   },
   "outputs": [
    {
     "name": "stdout",
     "output_type": "stream",
     "text": [
      "Dataset ready..\n"
     ]
    },
    {
     "data": {
      "text/html": [
       "<div>\n",
       "<style scoped>\n",
       "    .dataframe tbody tr th:only-of-type {\n",
       "        vertical-align: middle;\n",
       "    }\n",
       "\n",
       "    .dataframe tbody tr th {\n",
       "        vertical-align: top;\n",
       "    }\n",
       "\n",
       "    .dataframe thead th {\n",
       "        text-align: right;\n",
       "    }\n",
       "</style>\n",
       "<table border=\"1\" class=\"dataframe\">\n",
       "  <thead>\n",
       "    <tr style=\"text-align: right;\">\n",
       "      <th></th>\n",
       "      <th>COMPNOS</th>\n",
       "      <th>NatureCode</th>\n",
       "      <th>INCIDENT_TYPE_DESCRIPTION</th>\n",
       "      <th>MAIN_CRIMECODE</th>\n",
       "      <th>REPTDISTRICT</th>\n",
       "      <th>REPORTINGAREA</th>\n",
       "      <th>FROMDATE</th>\n",
       "      <th>WEAPONTYPE</th>\n",
       "      <th>Shooting</th>\n",
       "      <th>DOMESTIC</th>\n",
       "      <th>SHIFT</th>\n",
       "      <th>Year</th>\n",
       "      <th>Month</th>\n",
       "      <th>DAY_WEEK</th>\n",
       "      <th>UCRPART</th>\n",
       "      <th>X</th>\n",
       "      <th>Y</th>\n",
       "      <th>STREETNAME</th>\n",
       "      <th>XSTREETNAME</th>\n",
       "      <th>Location</th>\n",
       "    </tr>\n",
       "  </thead>\n",
       "  <tbody>\n",
       "    <tr>\n",
       "      <th>0</th>\n",
       "      <td>120420285.0</td>\n",
       "      <td>BERPTA</td>\n",
       "      <td>RESIDENTIAL BURGLARY</td>\n",
       "      <td>05RB</td>\n",
       "      <td>D4</td>\n",
       "      <td>629</td>\n",
       "      <td>07/08/2012 06:00:00 AM</td>\n",
       "      <td>Other</td>\n",
       "      <td>No</td>\n",
       "      <td>No</td>\n",
       "      <td>Last</td>\n",
       "      <td>2012</td>\n",
       "      <td>7</td>\n",
       "      <td>Sunday</td>\n",
       "      <td>Part One</td>\n",
       "      <td>763273.1791</td>\n",
       "      <td>2951498.962</td>\n",
       "      <td>ABERDEEN ST</td>\n",
       "      <td>NaN</td>\n",
       "      <td>(42.34638135, -71.10379454)</td>\n",
       "    </tr>\n",
       "    <tr>\n",
       "      <th>1</th>\n",
       "      <td>120419202.0</td>\n",
       "      <td>PSHOT</td>\n",
       "      <td>AGGRAVATED ASSAULT</td>\n",
       "      <td>04xx</td>\n",
       "      <td>B2</td>\n",
       "      <td>327</td>\n",
       "      <td>07/08/2012 06:03:00 AM</td>\n",
       "      <td>Firearm</td>\n",
       "      <td>Yes</td>\n",
       "      <td>No</td>\n",
       "      <td>Last</td>\n",
       "      <td>2012</td>\n",
       "      <td>7</td>\n",
       "      <td>Sunday</td>\n",
       "      <td>Part One</td>\n",
       "      <td>771223.1638</td>\n",
       "      <td>2940772.099</td>\n",
       "      <td>HOWARD AV</td>\n",
       "      <td>NaN</td>\n",
       "      <td>(42.31684135, -71.07458456)</td>\n",
       "    </tr>\n",
       "    <tr>\n",
       "      <th>2</th>\n",
       "      <td>120419213.0</td>\n",
       "      <td>ARMROB</td>\n",
       "      <td>ROBBERY</td>\n",
       "      <td>03xx</td>\n",
       "      <td>D4</td>\n",
       "      <td>625</td>\n",
       "      <td>07/08/2012 06:26:00 AM</td>\n",
       "      <td>Firearm</td>\n",
       "      <td>No</td>\n",
       "      <td>No</td>\n",
       "      <td>Last</td>\n",
       "      <td>2012</td>\n",
       "      <td>7</td>\n",
       "      <td>Sunday</td>\n",
       "      <td>Part One</td>\n",
       "      <td>765118.8605</td>\n",
       "      <td>2950217.536</td>\n",
       "      <td>JERSEY ST</td>\n",
       "      <td>QUEENSBERRY ST</td>\n",
       "      <td>(42.34284135, -71.09698955)</td>\n",
       "    </tr>\n",
       "    <tr>\n",
       "      <th>3</th>\n",
       "      <td>120419223.0</td>\n",
       "      <td>ALARMC</td>\n",
       "      <td>COMMERCIAL BURGLARY</td>\n",
       "      <td>05CB</td>\n",
       "      <td>B2</td>\n",
       "      <td>258</td>\n",
       "      <td>07/08/2012 06:56:00 AM</td>\n",
       "      <td>Other</td>\n",
       "      <td>No</td>\n",
       "      <td>No</td>\n",
       "      <td>Last</td>\n",
       "      <td>2012</td>\n",
       "      <td>7</td>\n",
       "      <td>Sunday</td>\n",
       "      <td>Part One</td>\n",
       "      <td>773591.8648</td>\n",
       "      <td>2940638.174</td>\n",
       "      <td>COLUMBIA RD</td>\n",
       "      <td>NaN</td>\n",
       "      <td>(42.3164411, -71.06582908)</td>\n",
       "    </tr>\n",
       "    <tr>\n",
       "      <th>4</th>\n",
       "      <td>120419236.0</td>\n",
       "      <td>ARMROB</td>\n",
       "      <td>ROBBERY</td>\n",
       "      <td>03xx</td>\n",
       "      <td>E18</td>\n",
       "      <td>496</td>\n",
       "      <td>07/08/2012 07:15:00 AM</td>\n",
       "      <td>Firearm</td>\n",
       "      <td>No</td>\n",
       "      <td>No</td>\n",
       "      <td>Last</td>\n",
       "      <td>2012</td>\n",
       "      <td>7</td>\n",
       "      <td>Sunday</td>\n",
       "      <td>Part One</td>\n",
       "      <td>759042.7315</td>\n",
       "      <td>2923832.681</td>\n",
       "      <td>COLLINS ST</td>\n",
       "      <td>NaN</td>\n",
       "      <td>(42.27051636, -71.11989955)</td>\n",
       "    </tr>\n",
       "  </tbody>\n",
       "</table>\n",
       "</div>"
      ],
      "text/plain": [
       "       COMPNOS NatureCode INCIDENT_TYPE_DESCRIPTION MAIN_CRIMECODE  \\\n",
       "0  120420285.0     BERPTA      RESIDENTIAL BURGLARY           05RB   \n",
       "1  120419202.0     PSHOT         AGGRAVATED ASSAULT           04xx   \n",
       "2  120419213.0     ARMROB                   ROBBERY           03xx   \n",
       "3  120419223.0     ALARMC       COMMERCIAL BURGLARY           05CB   \n",
       "4  120419236.0     ARMROB                   ROBBERY           03xx   \n",
       "\n",
       "  REPTDISTRICT  REPORTINGAREA                FROMDATE WEAPONTYPE Shooting  \\\n",
       "0           D4            629  07/08/2012 06:00:00 AM      Other       No   \n",
       "1           B2            327  07/08/2012 06:03:00 AM    Firearm      Yes   \n",
       "2           D4            625  07/08/2012 06:26:00 AM    Firearm       No   \n",
       "3           B2            258  07/08/2012 06:56:00 AM      Other       No   \n",
       "4          E18            496  07/08/2012 07:15:00 AM    Firearm       No   \n",
       "\n",
       "  DOMESTIC SHIFT  Year  Month DAY_WEEK   UCRPART            X            Y  \\\n",
       "0       No  Last  2012      7   Sunday  Part One  763273.1791  2951498.962   \n",
       "1       No  Last  2012      7   Sunday  Part One  771223.1638  2940772.099   \n",
       "2       No  Last  2012      7   Sunday  Part One  765118.8605  2950217.536   \n",
       "3       No  Last  2012      7   Sunday  Part One  773591.8648  2940638.174   \n",
       "4       No  Last  2012      7   Sunday  Part One  759042.7315  2923832.681   \n",
       "\n",
       "    STREETNAME     XSTREETNAME                     Location  \n",
       "0  ABERDEEN ST             NaN  (42.34638135, -71.10379454)  \n",
       "1    HOWARD AV             NaN  (42.31684135, -71.07458456)  \n",
       "2    JERSEY ST  QUEENSBERRY ST  (42.34284135, -71.09698955)  \n",
       "3  COLUMBIA RD             NaN   (42.3164411, -71.06582908)  \n",
       "4   COLLINS ST             NaN  (42.27051636, -71.11989955)  "
      ]
     },
     "execution_count": 11,
     "metadata": {},
     "output_type": "execute_result"
    }
   ],
   "source": [
    "# Stores the data in a variable called data\n",
    "data = pd.read_csv('file.csv',error_bad_lines=False)\n",
    "\n",
    "print ('Dataset ready..')\n",
    "\n",
    "# Show top 5 rows\n",
    "data.head()"
   ]
  },
  {
   "cell_type": "markdown",
   "metadata": {},
   "source": [
    "# 4. Clean Data"
   ]
  },
  {
   "cell_type": "code",
   "execution_count": 12,
   "metadata": {},
   "outputs": [
    {
     "name": "stdout",
     "output_type": "stream",
     "text": [
      "Dataset shape before drop_duplicate :  (268056, 20)\n",
      "Dataset shape after drop_duplicate:  (255797, 20)\n",
      "Dataset shape after removing columns (255797, 9)\n",
      "  INCIDENT_TYPE_DESCRIPTION REPTDISTRICT                FROMDATE Shooting  \\\n",
      "0      RESIDENTIAL BURGLARY           D4  07/08/2012 06:00:00 AM       No   \n",
      "1        AGGRAVATED ASSAULT           B2  07/08/2012 06:03:00 AM      Yes   \n",
      "2                   ROBBERY           D4  07/08/2012 06:26:00 AM       No   \n",
      "\n",
      "   Year  Month DAY_WEEK   STREETNAME                     Location  \n",
      "0  2012      7   Sunday  ABERDEEN ST  (42.34638135, -71.10379454)  \n",
      "1  2012      7   Sunday    HOWARD AV  (42.31684135, -71.07458456)  \n",
      "2  2012      7   Sunday    JERSEY ST  (42.34284135, -71.09698955)  \n"
     ]
    }
   ],
   "source": [
    "print('Dataset shape before drop_duplicate : ', data.shape)\n",
    "data.drop_duplicates(subset=['COMPNOS'], inplace=True)\n",
    "print('Dataset shape after drop_duplicate: ', data.shape)\n",
    "\n",
    "# Remove columns that we most likely won't use for this EDA\n",
    "# I wanted to use X and Y instead of location but the numbers weren't formatted correctly\n",
    "data = data.drop(['COMPNOS', 'NatureCode', 'MAIN_CRIMECODE', 'REPORTINGAREA', 'WEAPONTYPE', 'DOMESTIC',\n",
    "                  'SHIFT', 'UCRPART', 'XSTREETNAME', 'X', 'Y'], axis = 1)\n",
    "\n",
    "print('Dataset shape after removing columns', data.shape)\n",
    "print(data.head(3))"
   ]
  },
  {
   "cell_type": "code",
   "execution_count": 13,
   "metadata": {},
   "outputs": [
    {
     "data": {
      "text/plain": [
       "(255792, 9)"
      ]
     },
     "execution_count": 13,
     "metadata": {},
     "output_type": "execute_result"
    }
   ],
   "source": [
    "# Remove any null data but it looks like there was barely much this method took out\n",
    "data = data.dropna()\n",
    "\n",
    "data.shape"
   ]
  },
  {
   "cell_type": "code",
   "execution_count": 14,
   "metadata": {},
   "outputs": [
    {
     "data": {
      "text/html": [
       "<div>\n",
       "<style scoped>\n",
       "    .dataframe tbody tr th:only-of-type {\n",
       "        vertical-align: middle;\n",
       "    }\n",
       "\n",
       "    .dataframe tbody tr th {\n",
       "        vertical-align: top;\n",
       "    }\n",
       "\n",
       "    .dataframe thead th {\n",
       "        text-align: right;\n",
       "    }\n",
       "</style>\n",
       "<table border=\"1\" class=\"dataframe\">\n",
       "  <thead>\n",
       "    <tr style=\"text-align: right;\">\n",
       "      <th></th>\n",
       "      <th>INCIDENT_TYPE_DESCRIPTION</th>\n",
       "      <th>REPTDISTRICT</th>\n",
       "      <th>FROMDATE</th>\n",
       "      <th>Shooting</th>\n",
       "      <th>Year</th>\n",
       "      <th>Month</th>\n",
       "      <th>DAY_WEEK</th>\n",
       "      <th>STREETNAME</th>\n",
       "      <th>Location</th>\n",
       "    </tr>\n",
       "  </thead>\n",
       "  <tbody>\n",
       "    <tr>\n",
       "      <th>0</th>\n",
       "      <td>RESIDENTIAL BURGLARY</td>\n",
       "      <td>D4</td>\n",
       "      <td>07/08/2012 06:00:00 AM</td>\n",
       "      <td>No</td>\n",
       "      <td>2012</td>\n",
       "      <td>7</td>\n",
       "      <td>Sunday</td>\n",
       "      <td>ABERDEEN ST</td>\n",
       "      <td>(42.34638135, -71.10379454)</td>\n",
       "    </tr>\n",
       "    <tr>\n",
       "      <th>1</th>\n",
       "      <td>AGGRAVATED ASSAULT</td>\n",
       "      <td>B2</td>\n",
       "      <td>07/08/2012 06:03:00 AM</td>\n",
       "      <td>Yes</td>\n",
       "      <td>2012</td>\n",
       "      <td>7</td>\n",
       "      <td>Sunday</td>\n",
       "      <td>HOWARD AV</td>\n",
       "      <td>(42.31684135, -71.07458456)</td>\n",
       "    </tr>\n",
       "    <tr>\n",
       "      <th>2</th>\n",
       "      <td>ROBBERY</td>\n",
       "      <td>D4</td>\n",
       "      <td>07/08/2012 06:26:00 AM</td>\n",
       "      <td>No</td>\n",
       "      <td>2012</td>\n",
       "      <td>7</td>\n",
       "      <td>Sunday</td>\n",
       "      <td>JERSEY ST</td>\n",
       "      <td>(42.34284135, -71.09698955)</td>\n",
       "    </tr>\n",
       "    <tr>\n",
       "      <th>3</th>\n",
       "      <td>COMMERCIAL BURGLARY</td>\n",
       "      <td>B2</td>\n",
       "      <td>07/08/2012 06:56:00 AM</td>\n",
       "      <td>No</td>\n",
       "      <td>2012</td>\n",
       "      <td>7</td>\n",
       "      <td>Sunday</td>\n",
       "      <td>COLUMBIA RD</td>\n",
       "      <td>(42.3164411, -71.06582908)</td>\n",
       "    </tr>\n",
       "    <tr>\n",
       "      <th>4</th>\n",
       "      <td>ROBBERY</td>\n",
       "      <td>E18</td>\n",
       "      <td>07/08/2012 07:15:00 AM</td>\n",
       "      <td>No</td>\n",
       "      <td>2012</td>\n",
       "      <td>7</td>\n",
       "      <td>Sunday</td>\n",
       "      <td>COLLINS ST</td>\n",
       "      <td>(42.27051636, -71.11989955)</td>\n",
       "    </tr>\n",
       "  </tbody>\n",
       "</table>\n",
       "</div>"
      ],
      "text/plain": [
       "  INCIDENT_TYPE_DESCRIPTION REPTDISTRICT                FROMDATE Shooting  \\\n",
       "0      RESIDENTIAL BURGLARY           D4  07/08/2012 06:00:00 AM       No   \n",
       "1        AGGRAVATED ASSAULT           B2  07/08/2012 06:03:00 AM      Yes   \n",
       "2                   ROBBERY           D4  07/08/2012 06:26:00 AM       No   \n",
       "3       COMMERCIAL BURGLARY           B2  07/08/2012 06:56:00 AM       No   \n",
       "4                   ROBBERY          E18  07/08/2012 07:15:00 AM       No   \n",
       "\n",
       "   Year  Month DAY_WEEK   STREETNAME                     Location  \n",
       "0  2012      7   Sunday  ABERDEEN ST  (42.34638135, -71.10379454)  \n",
       "1  2012      7   Sunday    HOWARD AV  (42.31684135, -71.07458456)  \n",
       "2  2012      7   Sunday    JERSEY ST  (42.34284135, -71.09698955)  \n",
       "3  2012      7   Sunday  COLUMBIA RD   (42.3164411, -71.06582908)  \n",
       "4  2012      7   Sunday   COLLINS ST  (42.27051636, -71.11989955)  "
      ]
     },
     "execution_count": 14,
     "metadata": {},
     "output_type": "execute_result"
    }
   ],
   "source": [
    "data.head()"
   ]
  },
  {
   "cell_type": "code",
   "execution_count": 15,
   "metadata": {
    "scrolled": true
   },
   "outputs": [
    {
     "data": {
      "text/plain": [
       "INCIDENT_TYPE_DESCRIPTION    object\n",
       "REPTDISTRICT                 object\n",
       "FROMDATE                     object\n",
       "Shooting                     object\n",
       "Year                          int64\n",
       "Month                         int64\n",
       "DAY_WEEK                     object\n",
       "STREETNAME                   object\n",
       "Location                     object\n",
       "dtype: object"
      ]
     },
     "execution_count": 15,
     "metadata": {},
     "output_type": "execute_result"
    }
   ],
   "source": [
    "# Using dtypes to see the datatype, note that strings will show up as object\n",
    "data.dtypes"
   ]
  },
  {
   "cell_type": "code",
   "execution_count": 17,
   "metadata": {},
   "outputs": [
    {
     "data": {
      "text/html": [
       "<div>\n",
       "<style scoped>\n",
       "    .dataframe tbody tr th:only-of-type {\n",
       "        vertical-align: middle;\n",
       "    }\n",
       "\n",
       "    .dataframe tbody tr th {\n",
       "        vertical-align: top;\n",
       "    }\n",
       "\n",
       "    .dataframe thead th {\n",
       "        text-align: right;\n",
       "    }\n",
       "</style>\n",
       "<table border=\"1\" class=\"dataframe\">\n",
       "  <thead>\n",
       "    <tr style=\"text-align: right;\">\n",
       "      <th></th>\n",
       "      <th>Type</th>\n",
       "      <th>District</th>\n",
       "      <th>Date</th>\n",
       "      <th>Shooting</th>\n",
       "      <th>Year</th>\n",
       "      <th>Month</th>\n",
       "      <th>Day</th>\n",
       "      <th>Street</th>\n",
       "      <th>Location</th>\n",
       "    </tr>\n",
       "    <tr>\n",
       "      <th>FROMDATE</th>\n",
       "      <th></th>\n",
       "      <th></th>\n",
       "      <th></th>\n",
       "      <th></th>\n",
       "      <th></th>\n",
       "      <th></th>\n",
       "      <th></th>\n",
       "      <th></th>\n",
       "      <th></th>\n",
       "    </tr>\n",
       "  </thead>\n",
       "  <tbody>\n",
       "    <tr>\n",
       "      <th>2012-07-08 06:00:00</th>\n",
       "      <td>RESIDENTIAL BURGLARY</td>\n",
       "      <td>D4</td>\n",
       "      <td>07/08/2012 06:00:00 AM</td>\n",
       "      <td>No</td>\n",
       "      <td>2012</td>\n",
       "      <td>July</td>\n",
       "      <td>Sunday</td>\n",
       "      <td>ABERDEEN ST</td>\n",
       "      <td>(42.34638135, -71.10379454)</td>\n",
       "    </tr>\n",
       "    <tr>\n",
       "      <th>2012-07-08 06:03:00</th>\n",
       "      <td>AGGRAVATED ASSAULT</td>\n",
       "      <td>B2</td>\n",
       "      <td>07/08/2012 06:03:00 AM</td>\n",
       "      <td>Yes</td>\n",
       "      <td>2012</td>\n",
       "      <td>July</td>\n",
       "      <td>Sunday</td>\n",
       "      <td>HOWARD AV</td>\n",
       "      <td>(42.31684135, -71.07458456)</td>\n",
       "    </tr>\n",
       "    <tr>\n",
       "      <th>2012-07-08 06:26:00</th>\n",
       "      <td>ROBBERY</td>\n",
       "      <td>D4</td>\n",
       "      <td>07/08/2012 06:26:00 AM</td>\n",
       "      <td>No</td>\n",
       "      <td>2012</td>\n",
       "      <td>July</td>\n",
       "      <td>Sunday</td>\n",
       "      <td>JERSEY ST</td>\n",
       "      <td>(42.34284135, -71.09698955)</td>\n",
       "    </tr>\n",
       "    <tr>\n",
       "      <th>2012-07-08 06:56:00</th>\n",
       "      <td>COMMERCIAL BURGLARY</td>\n",
       "      <td>B2</td>\n",
       "      <td>07/08/2012 06:56:00 AM</td>\n",
       "      <td>No</td>\n",
       "      <td>2012</td>\n",
       "      <td>July</td>\n",
       "      <td>Sunday</td>\n",
       "      <td>COLUMBIA RD</td>\n",
       "      <td>(42.3164411, -71.06582908)</td>\n",
       "    </tr>\n",
       "    <tr>\n",
       "      <th>2012-07-08 07:15:00</th>\n",
       "      <td>ROBBERY</td>\n",
       "      <td>E18</td>\n",
       "      <td>07/08/2012 07:15:00 AM</td>\n",
       "      <td>No</td>\n",
       "      <td>2012</td>\n",
       "      <td>July</td>\n",
       "      <td>Sunday</td>\n",
       "      <td>COLLINS ST</td>\n",
       "      <td>(42.27051636, -71.11989955)</td>\n",
       "    </tr>\n",
       "  </tbody>\n",
       "</table>\n",
       "</div>"
      ],
      "text/plain": [
       "                                     Type District                    Date  \\\n",
       "FROMDATE                                                                     \n",
       "2012-07-08 06:00:00  RESIDENTIAL BURGLARY       D4  07/08/2012 06:00:00 AM   \n",
       "2012-07-08 06:03:00    AGGRAVATED ASSAULT       B2  07/08/2012 06:03:00 AM   \n",
       "2012-07-08 06:26:00               ROBBERY       D4  07/08/2012 06:26:00 AM   \n",
       "2012-07-08 06:56:00   COMMERCIAL BURGLARY       B2  07/08/2012 06:56:00 AM   \n",
       "2012-07-08 07:15:00               ROBBERY      E18  07/08/2012 07:15:00 AM   \n",
       "\n",
       "                    Shooting  Year Month     Day       Street  \\\n",
       "FROMDATE                                                        \n",
       "2012-07-08 06:00:00       No  2012  July  Sunday  ABERDEEN ST   \n",
       "2012-07-08 06:03:00      Yes  2012  July  Sunday    HOWARD AV   \n",
       "2012-07-08 06:26:00       No  2012  July  Sunday    JERSEY ST   \n",
       "2012-07-08 06:56:00       No  2012  July  Sunday  COLUMBIA RD   \n",
       "2012-07-08 07:15:00       No  2012  July  Sunday   COLLINS ST   \n",
       "\n",
       "                                        Location  \n",
       "FROMDATE                                          \n",
       "2012-07-08 06:00:00  (42.34638135, -71.10379454)  \n",
       "2012-07-08 06:03:00  (42.31684135, -71.07458456)  \n",
       "2012-07-08 06:26:00  (42.34284135, -71.09698955)  \n",
       "2012-07-08 06:56:00   (42.3164411, -71.06582908)  \n",
       "2012-07-08 07:15:00  (42.27051636, -71.11989955)  "
      ]
     },
     "execution_count": 17,
     "metadata": {},
     "output_type": "execute_result"
    }
   ],
   "source": [
    "data.Date = pd.to_datetime(data.FROMDATE, format='%m/%d/%Y %I:%M:%S %p')\n",
    "# setting the index to be the date will help us a lot later on\n",
    "data.index = pd.DatetimeIndex(data.Date)\n",
    "\n",
    "month = { 1:'January',\n",
    "         2:'February',\n",
    "         3:'March',\n",
    "         4:'April',\n",
    "         5:'May',\n",
    "         6:'June',\n",
    "         7:'July', \n",
    "         8:'August',\n",
    "         9:'September', \n",
    "         10:'October', \n",
    "         11:'November', \n",
    "         12:'December'}\n",
    "\n",
    "data['Month'] = data['Month'].apply(lambda x:month[x])\n",
    "\n",
    "rename = {'INCIDENT_TYPE_DESCRIPTION':'Type',\n",
    "         'REPTDISTRICT':'District',\n",
    "         'FROMDATE':'Date',\n",
    "         'Shooting':'Shooting',\n",
    "         'DOMESTIC':'Domestic',\n",
    "         'Year':'Year',\n",
    "         'Month':'Month',\n",
    "         'DAY_WEEK':'Day',\n",
    "         'X':'X',\n",
    "         'Y': 'Y',\n",
    "         'STREETNAME':'Street'}\n",
    "data.rename(index=str, columns=rename, inplace=True)\n",
    "\n",
    "data.dropna()\n",
    "         \n",
    "data.head()"
   ]
  },
  {
   "cell_type": "markdown",
   "metadata": {},
   "source": [
    "# 5. Analyze\n",
    "    a. Crime by District\n",
    "    b. Yearly\n",
    "    c. By month\n",
    "    d. Day of the week\n",
    "    e. Time of the day\n",
    "    f. Frequncy of Incident type\n",
    "    g. Street\n",
    "    h. Shooting vs Non-shooting\n",
    "    i. Map"
   ]
  },
  {
   "cell_type": "code",
   "execution_count": 8,
   "metadata": {},
   "outputs": [
    {
     "name": "stdout",
     "output_type": "stream",
     "text": [
      "B2     38594\n",
      "D4     35659\n",
      "C11    32796\n",
      "A1     27955\n",
      "B3     23795\n",
      "C6     19091\n",
      "D14    18647\n",
      "E13    14245\n",
      "E18    13500\n",
      "A7     11950\n",
      "E5     11659\n",
      "A15     5117\n",
      "Name: District, dtype: int64\n"
     ]
    },
    {
     "data": {
      "image/png": "[encoded data removed]",
      "text/plain": [
       "<Figure size 1152x576 with 1 Axes>"
      ]
     },
     "metadata": {
      "needs_background": "light"
     },
     "output_type": "display_data"
    }
   ],
   "source": [
    "# a. Crime by District\n",
    "print(data['District'].value_counts())\n",
    "\n",
    "plt.figure(figsize=(16,8))\n",
    "data['District'].value_counts().plot.bar()\n",
    "plt.show()"
   ]
  },
  {
   "cell_type": "markdown",
   "metadata": {},
   "source": [
    "Seems like A15, aka Charlestown, is the district with the least amount of crimes and Roxbury is on top. As a resident of Dorchester all my life, I'm surprised B3 is so low. B3, aka Mattapan, has always been refered to as \"Murderpan\" around my area, but it seems C11, aka Dorchester, is higher on the list."
   ]
  },
  {
   "cell_type": "code",
   "execution_count": 9,
   "metadata": {},
   "outputs": [
    {
     "data": {
      "image/png": "[encoded data removed]",
      "text/plain": [
       "<Figure size 1152x576 with 1 Axes>"
      ]
     },
     "metadata": {
      "needs_background": "light"
     },
     "output_type": "display_data"
    }
   ],
   "source": [
    "# b. Yearly trend\n",
    "# data['Year'].value_counts(sort = False)\n",
    "\n",
    "plt.figure(figsize=(16,8))\n",
    "data['Year'].value_counts().plot.bar()\n",
    "plt.show()"
   ]
  },
  {
   "cell_type": "code",
   "execution_count": 20,
   "metadata": {
    "scrolled": false
   },
   "outputs": [
    {
     "ename": "TypeError",
     "evalue": "Only valid with DatetimeIndex, TimedeltaIndex or PeriodIndex, but got an instance of 'Index'",
     "output_type": "error",
     "traceback": [
      "\u001b[0;31m---------------------------------------------------------------------------\u001b[0m",
      "\u001b[0;31mTypeError\u001b[0m                                 Traceback (most recent call last)",
      "\u001b[0;32m<ipython-input-20-21582164f54e>\u001b[0m in \u001b[0;36m<module>\u001b[0;34m\u001b[0m\n\u001b[1;32m      3\u001b[0m \u001b[0;34m\u001b[0m\u001b[0m\n\u001b[1;32m      4\u001b[0m \u001b[0mplt\u001b[0m\u001b[0;34m.\u001b[0m\u001b[0mfigure\u001b[0m\u001b[0;34m(\u001b[0m\u001b[0mfigsize\u001b[0m\u001b[0;34m=\u001b[0m\u001b[0;34m(\u001b[0m\u001b[0;36m11\u001b[0m\u001b[0;34m,\u001b[0m\u001b[0;36m5\u001b[0m\u001b[0;34m)\u001b[0m\u001b[0;34m)\u001b[0m\u001b[0;34m\u001b[0m\u001b[0;34m\u001b[0m\u001b[0m\n\u001b[0;32m----> 5\u001b[0;31m \u001b[0mdata\u001b[0m\u001b[0;34m.\u001b[0m\u001b[0mresample\u001b[0m\u001b[0;34m(\u001b[0m\u001b[0;34m'M'\u001b[0m\u001b[0;34m)\u001b[0m\u001b[0;34m.\u001b[0m\u001b[0msize\u001b[0m\u001b[0;34m(\u001b[0m\u001b[0;34m)\u001b[0m\u001b[0;34m.\u001b[0m\u001b[0mplot\u001b[0m\u001b[0;34m(\u001b[0m\u001b[0mlegend\u001b[0m\u001b[0;34m=\u001b[0m\u001b[0;32mFalse\u001b[0m\u001b[0;34m)\u001b[0m\u001b[0;34m\u001b[0m\u001b[0;34m\u001b[0m\u001b[0m\n\u001b[0m\u001b[1;32m      6\u001b[0m \u001b[0mplt\u001b[0m\u001b[0;34m.\u001b[0m\u001b[0mtitle\u001b[0m\u001b[0;34m(\u001b[0m\u001b[0;34m'Number of crimes per month (2005 - 2016)'\u001b[0m\u001b[0;34m)\u001b[0m\u001b[0;34m\u001b[0m\u001b[0;34m\u001b[0m\u001b[0m\n\u001b[1;32m      7\u001b[0m \u001b[0mplt\u001b[0m\u001b[0;34m.\u001b[0m\u001b[0mxlabel\u001b[0m\u001b[0;34m(\u001b[0m\u001b[0;34m'Months'\u001b[0m\u001b[0;34m)\u001b[0m\u001b[0;34m\u001b[0m\u001b[0;34m\u001b[0m\u001b[0m\n",
      "\u001b[0;32m/usr/lib/python3.7/site-packages/pandas/core/generic.py\u001b[0m in \u001b[0;36mresample\u001b[0;34m(self, rule, how, axis, fill_method, closed, label, convention, kind, loffset, limit, base, on, level)\u001b[0m\n\u001b[1;32m   8153\u001b[0m                      \u001b[0maxis\u001b[0m\u001b[0;34m=\u001b[0m\u001b[0maxis\u001b[0m\u001b[0;34m,\u001b[0m \u001b[0mkind\u001b[0m\u001b[0;34m=\u001b[0m\u001b[0mkind\u001b[0m\u001b[0;34m,\u001b[0m \u001b[0mloffset\u001b[0m\u001b[0;34m=\u001b[0m\u001b[0mloffset\u001b[0m\u001b[0;34m,\u001b[0m\u001b[0;34m\u001b[0m\u001b[0;34m\u001b[0m\u001b[0m\n\u001b[1;32m   8154\u001b[0m                      \u001b[0mconvention\u001b[0m\u001b[0;34m=\u001b[0m\u001b[0mconvention\u001b[0m\u001b[0;34m,\u001b[0m\u001b[0;34m\u001b[0m\u001b[0;34m\u001b[0m\u001b[0m\n\u001b[0;32m-> 8155\u001b[0;31m                      base=base, key=on, level=level)\n\u001b[0m\u001b[1;32m   8156\u001b[0m         return _maybe_process_deprecations(r,\n\u001b[1;32m   8157\u001b[0m                                            \u001b[0mhow\u001b[0m\u001b[0;34m=\u001b[0m\u001b[0mhow\u001b[0m\u001b[0;34m,\u001b[0m\u001b[0;34m\u001b[0m\u001b[0;34m\u001b[0m\u001b[0m\n",
      "\u001b[0;32m/usr/lib/python3.7/site-packages/pandas/core/resample.py\u001b[0m in \u001b[0;36mresample\u001b[0;34m(obj, kind, **kwds)\u001b[0m\n\u001b[1;32m   1248\u001b[0m     \"\"\"\n\u001b[1;32m   1249\u001b[0m     \u001b[0mtg\u001b[0m \u001b[0;34m=\u001b[0m \u001b[0mTimeGrouper\u001b[0m\u001b[0;34m(\u001b[0m\u001b[0;34m**\u001b[0m\u001b[0mkwds\u001b[0m\u001b[0;34m)\u001b[0m\u001b[0;34m\u001b[0m\u001b[0;34m\u001b[0m\u001b[0m\n\u001b[0;32m-> 1250\u001b[0;31m     \u001b[0;32mreturn\u001b[0m \u001b[0mtg\u001b[0m\u001b[0;34m.\u001b[0m\u001b[0m_get_resampler\u001b[0m\u001b[0;34m(\u001b[0m\u001b[0mobj\u001b[0m\u001b[0;34m,\u001b[0m \u001b[0mkind\u001b[0m\u001b[0;34m=\u001b[0m\u001b[0mkind\u001b[0m\u001b[0;34m)\u001b[0m\u001b[0;34m\u001b[0m\u001b[0;34m\u001b[0m\u001b[0m\n\u001b[0m\u001b[1;32m   1251\u001b[0m \u001b[0;34m\u001b[0m\u001b[0m\n\u001b[1;32m   1252\u001b[0m \u001b[0;34m\u001b[0m\u001b[0m\n",
      "\u001b[0;32m/usr/lib/python3.7/site-packages/pandas/core/resample.py\u001b[0m in \u001b[0;36m_get_resampler\u001b[0;34m(self, obj, kind)\u001b[0m\n\u001b[1;32m   1378\u001b[0m         raise TypeError(\"Only valid with DatetimeIndex, \"\n\u001b[1;32m   1379\u001b[0m                         \u001b[0;34m\"TimedeltaIndex or PeriodIndex, \"\u001b[0m\u001b[0;34m\u001b[0m\u001b[0;34m\u001b[0m\u001b[0m\n\u001b[0;32m-> 1380\u001b[0;31m                         \"but got an instance of %r\" % type(ax).__name__)\n\u001b[0m\u001b[1;32m   1381\u001b[0m \u001b[0;34m\u001b[0m\u001b[0m\n\u001b[1;32m   1382\u001b[0m     \u001b[0;32mdef\u001b[0m \u001b[0m_get_grouper\u001b[0m\u001b[0;34m(\u001b[0m\u001b[0mself\u001b[0m\u001b[0;34m,\u001b[0m \u001b[0mobj\u001b[0m\u001b[0;34m,\u001b[0m \u001b[0mvalidate\u001b[0m\u001b[0;34m=\u001b[0m\u001b[0;32mTrue\u001b[0m\u001b[0;34m)\u001b[0m\u001b[0;34m:\u001b[0m\u001b[0;34m\u001b[0m\u001b[0;34m\u001b[0m\u001b[0m\n",
      "\u001b[0;31mTypeError\u001b[0m: Only valid with DatetimeIndex, TimedeltaIndex or PeriodIndex, but got an instance of 'Index'"
     ]
    },
    {
     "data": {
      "text/plain": [
       "<Figure size 792x360 with 0 Axes>"
      ]
     },
     "metadata": {},
     "output_type": "display_data"
    }
   ],
   "source": [
    "# c. By month\n",
    "data['Month'].value_counts()\n",
    "\n",
    "plt.figure(figsize=(11,5))\n",
    "data.resample('M').size().plot(legend=False)\n",
    "plt.title('Number of crimes per month (2012 - 2015)')\n",
    "plt.xlabel('Months')\n",
    "plt.ylabel('Number of crimes')\n",
    "plt.show()"
   ]
  },
  {
   "cell_type": "code",
   "execution_count": 11,
   "metadata": {},
   "outputs": [
    {
     "data": {
      "text/plain": [
       "Friday       39599\n",
       "Thursday     36388\n",
       "Saturday     36386\n",
       "Monday       36149\n",
       "Wednesday    36084\n",
       "Tuesday      35821\n",
       "Sunday       32581\n",
       "Name: Day, dtype: int64"
      ]
     },
     "execution_count": 11,
     "metadata": {},
     "output_type": "execute_result"
    }
   ],
   "source": [
    "# d. Day of the week\n",
    "data['Day'].value_counts()"
   ]
  },
  {
   "cell_type": "code",
   "execution_count": 12,
   "metadata": {},
   "outputs": [
    {
     "data": {
      "text/plain": [
       "0     19222\n",
       "12    16336\n",
       "17    15093\n",
       "18    15014\n",
       "16    14909\n",
       "14    12718\n",
       "19    12695\n",
       "9     12322\n",
       "15    12198\n",
       "11    12158\n",
       "10    12098\n",
       "13    11877\n",
       "20    11719\n",
       "8     10985\n",
       "21    10380\n",
       "22     9868\n",
       "23     8066\n",
       "1      7830\n",
       "7      7674\n",
       "2      6904\n",
       "3      4009\n",
       "6      3849\n",
       "4      2636\n",
       "5      2448\n",
       "Name: Hour, dtype: int64"
      ]
     },
     "execution_count": 12,
     "metadata": {},
     "output_type": "execute_result"
    }
   ],
   "source": [
    "# e. Time of the day\n",
    "\n",
    "# Unfortunately there is no \"Hour\" column so we'll create one from the \"FROMDATE\"\n",
    "data.insert(loc = 7, column = 'Hour', value = data['Date'].dt.hour)\n",
    "\n",
    "\n",
    "data['Hour'].value_counts(sort = True)"
   ]
  },
  {
   "cell_type": "markdown",
   "metadata": {},
   "source": [
    "I would take the above data with a grain of salt, it's possible that for some of the rows, 0 is suppose to be null rather than 12:0 PM. "
   ]
  },
  {
   "cell_type": "code",
   "execution_count": 13,
   "metadata": {},
   "outputs": [
    {
     "data": {
      "text/plain": [
       "VAL                           25578\n",
       "OTHER LARCENY                 23669\n",
       "SIMPLE ASSAULT                16966\n",
       "MedAssist                     16371\n",
       "MVAcc                         13056\n",
       "VANDALISM                     12810\n",
       "InvPer                        12342\n",
       "LARCENY FROM MOTOR VEHICLE    12311\n",
       "DRUG CHARGES                  11478\n",
       "FRAUD                          8327\n",
       "Name: Type, dtype: int64"
      ]
     },
     "execution_count": 13,
     "metadata": {},
     "output_type": "execute_result"
    }
   ],
   "source": [
    "# f. Frequncy of Incident type\n",
    "data['Type'].value_counts().nlargest(10)"
   ]
  },
  {
   "cell_type": "code",
   "execution_count": 14,
   "metadata": {},
   "outputs": [
    {
     "data": {
      "text/plain": [
       "Manslaug                    8\n",
       "Embezzlement                6\n",
       "Firearm Discovery           4\n",
       "Homicide                    3\n",
       "BioThreat                   3\n",
       "Explosives                  2\n",
       "Arson                       2\n",
       "Rape and Attempted          1\n",
       "Harbor Related Incidents    1\n",
       "Bomb Hoax                   1\n",
       "Name: Type, dtype: int64"
      ]
     },
     "execution_count": 14,
     "metadata": {},
     "output_type": "execute_result"
    }
   ],
   "source": [
    "data['Type'].value_counts().nsmallest(10).sort_values(ascending=False)"
   ]
  },
  {
   "cell_type": "code",
   "execution_count": 15,
   "metadata": {
    "scrolled": true
   },
   "outputs": [
    {
     "data": {
      "text/plain": [
       "WASHINGTON ST       13904\n",
       "BOYLSTON ST          6437\n",
       "BLUE HILL AV         6029\n",
       "DORCHESTER AV        4322\n",
       "TREMONT ST           4302\n",
       "MASSACHUSETTS AV     4022\n",
       "COMMONWEALTH AV      4018\n",
       "CENTRE ST            3662\n",
       "HYDE PARK AV         2820\n",
       "HARRISON AV          2755\n",
       "Name: Street, dtype: int64"
      ]
     },
     "execution_count": 15,
     "metadata": {},
     "output_type": "execute_result"
    }
   ],
   "source": [
    "# g. Street\n",
    "data['Street'].value_counts().nlargest(10)"
   ]
  },
  {
   "cell_type": "markdown",
   "metadata": {},
   "source": [
    "I've lived off of both Blue Hill ave and Dorchester ave for the majority of my life and fully expected the top 5. No surprise at all. "
   ]
  },
  {
   "cell_type": "code",
   "execution_count": 16,
   "metadata": {},
   "outputs": [
    {
     "name": "stdout",
     "output_type": "stream",
     "text": [
      "Shooting    0.265604\n",
      "dtype: float64\n"
     ]
    },
    {
     "data": {
      "image/png": "[encoded data removed]",
      "text/plain": [
       "<Figure size 432x288 with 1 Axes>"
      ]
     },
     "metadata": {},
     "output_type": "display_data"
    },
    {
     "name": "stdout",
     "output_type": "stream",
     "text": [
      "0.5674457169508214\n"
     ]
    },
    {
     "data": {
      "image/png": "[encoded data removed]",
      "text/plain": [
       "<Figure size 432x288 with 1 Axes>"
      ]
     },
     "metadata": {},
     "output_type": "display_data"
    },
    {
     "name": "stdout",
     "output_type": "stream",
     "text": [
      "0.12339100928236912\n"
     ]
    },
    {
     "data": {
      "image/png": "[encoded data removed]",
      "text/plain": [
       "<Figure size 432x288 with 1 Axes>"
      ]
     },
     "metadata": {},
     "output_type": "display_data"
    },
    {
     "name": "stdout",
     "output_type": "stream",
     "text": [
      "0.43907793633369924\n"
     ]
    },
    {
     "data": {
      "image/png": "[encoded data removed]",
      "text/plain": [
       "<Figure size 432x288 with 1 Axes>"
      ]
     },
     "metadata": {},
     "output_type": "display_data"
    }
   ],
   "source": [
    "# h. Shooting vs Non-shooting\n",
    "print((data[data['Shooting'] == 'Yes'].count()['Shooting'] / data[['Shooting']].count()) * 100)\n",
    " \n",
    "# Data to plot\n",
    "labels = 'Shooting', 'Non-shooting'\n",
    "sizes = [(data[data['Shooting'] == 'Yes'].count()['Shooting']), (data[data['Shooting'] == 'No'].count()['Shooting'])]\n",
    "colors = ['brown', 'gray', ]\n",
    "explode = (0.1, 0)  # explode 1st slice\n",
    " \n",
    "# Plot overall\n",
    "plt.pie(sizes, explode=explode, labels=labels, colors=colors,\n",
    "autopct='%1.1f%%', shadow=True, startangle=140)\n",
    " \n",
    "plt.axis('equal')\n",
    "plt.show()\n",
    "\n",
    "# Plot base on top 3 district starting with B2\n",
    "top = (data[(data['Shooting'] == 'Yes') & (data['District'] == 'B2')].count()['Shooting'])\n",
    "bottom = (data[(data['District'] == 'B2')].count()['Shooting'])\n",
    "\n",
    "print((top / bottom) * 100)\n",
    "\n",
    "# Data to plot\n",
    "labels = 'Shooting in B2', 'Non-shooting'\n",
    "sizes = [data[(data['Shooting'] == 'Yes') & (data['District'] == 'B2')].count()['Shooting'], \n",
    "         data[(data['Shooting'] == 'No') & (data['District'] == 'B2')].count()['Shooting']]\n",
    "colors = ['brown', 'gray', ]\n",
    "explode = (0.1, 0)  # explode 1st slice\n",
    " \n",
    "# Plot overall\n",
    "plt.pie(sizes, explode=explode, labels=labels, colors=colors,\n",
    "autopct='%1.1f%%', shadow=True, startangle=140)\n",
    " \n",
    "plt.axis('equal')\n",
    "plt.show()\n",
    "\n",
    "# D4\n",
    "top = (data[(data['Shooting'] == 'Yes') & (data['District'] == 'D4')].count()['Shooting'])\n",
    "bottom = (data[(data['District'] == 'D4')].count()['Shooting'])\n",
    "\n",
    "print((top / bottom) * 100)\n",
    "\n",
    "# Data to plot\n",
    "labels = 'Shooting in D4', 'Non-shooting'\n",
    "sizes = [data[(data['Shooting'] == 'Yes') & (data['District'] == 'D4')].count()['Shooting'], \n",
    "         data[(data['Shooting'] == 'No') & (data['District'] == 'D4')].count()['Shooting']]\n",
    "colors = ['brown', 'gray', ]\n",
    "explode = (0.1, 0)  # explode 1st slice\n",
    " \n",
    "# Plot overall\n",
    "plt.pie(sizes, explode=explode, labels=labels, colors=colors,\n",
    "autopct='%1.1f%%', shadow=True, startangle=140)\n",
    " \n",
    "plt.axis('equal')\n",
    "plt.show()\n",
    "\n",
    "# C11\n",
    "top = (data[(data['Shooting'] == 'Yes') & (data['District'] == 'C11')].count()['Shooting'])\n",
    "bottom = (data[(data['District'] == 'C11')].count()['Shooting'])\n",
    "\n",
    "print((top / bottom) * 100)\n",
    "\n",
    "# Data to plot\n",
    "labels = 'Shooting in C11', 'Non-shooting'\n",
    "sizes = [data[(data['Shooting'] == 'Yes') & (data['District'] == 'C11')].count()['Shooting'], \n",
    "         data[(data['Shooting'] == 'No') & (data['District'] == 'C11')].count()['Shooting']]\n",
    "colors = ['brown', 'gray', ]\n",
    "explode = (0.1, 0)  # explode 1st slice\n",
    " \n",
    "# Plot overall\n",
    "plt.pie(sizes, explode=explode, labels=labels, colors=colors,\n",
    "autopct='%1.1f%%', shadow=True, startangle=140)\n",
    " \n",
    "plt.axis('equal')\n",
    "plt.show()\n"
   ]
  },
  {
   "cell_type": "code",
   "execution_count": 17,
   "metadata": {
    "scrolled": true
   },
   "outputs": [],
   "source": [
    "# i. Map <DO LATER>\n",
    "\n",
    "# print(data['X'])\n",
    "\n",
    "# sns.scatterplot({float(data['Location'][x][0]), index =[]},\n",
    "#                float(data['Location'][x][1]),\n",
    "#                 alpha=0.01,\n",
    "#                data=data)"
   ]
  },
  {
   "cell_type": "markdown",
   "metadata": {},
   "source": [
    "# Weather"
   ]
  },
  {
   "cell_type": "code",
   "execution_count": 18,
   "metadata": {},
   "outputs": [
    {
     "data": {
      "text/html": [
       "<div>\n",
       "<style scoped>\n",
       "    .dataframe tbody tr th:only-of-type {\n",
       "        vertical-align: middle;\n",
       "    }\n",
       "\n",
       "    .dataframe tbody tr th {\n",
       "        vertical-align: top;\n",
       "    }\n",
       "\n",
       "    .dataframe thead th {\n",
       "        text-align: right;\n",
       "    }\n",
       "</style>\n",
       "<table border=\"1\" class=\"dataframe\">\n",
       "  <thead>\n",
       "    <tr style=\"text-align: right;\">\n",
       "      <th></th>\n",
       "      <th>Year</th>\n",
       "      <th>Month</th>\n",
       "      <th>Day</th>\n",
       "      <th>High Temp (F)</th>\n",
       "      <th>Avg Temp (F)</th>\n",
       "      <th>Low Temp (F)</th>\n",
       "      <th>High Dew Point (F)</th>\n",
       "      <th>Avg Dew Point (F)</th>\n",
       "      <th>Low Dew Point (F)</th>\n",
       "      <th>High Humidity (%)</th>\n",
       "      <th>...</th>\n",
       "      <th>Low Sea Level Press (in)</th>\n",
       "      <th>High Visibility (mi)</th>\n",
       "      <th>Avg Visibility (mi)</th>\n",
       "      <th>Low Visibility (mi)</th>\n",
       "      <th>High Wind (mph)</th>\n",
       "      <th>Avg Wind (mph)</th>\n",
       "      <th>High Wind Gust (mph)</th>\n",
       "      <th>Snowfall (in)</th>\n",
       "      <th>Precip (in)</th>\n",
       "      <th>Events</th>\n",
       "    </tr>\n",
       "  </thead>\n",
       "  <tbody>\n",
       "    <tr>\n",
       "      <th>0</th>\n",
       "      <td>2008</td>\n",
       "      <td>1</td>\n",
       "      <td>1</td>\n",
       "      <td>40</td>\n",
       "      <td>34</td>\n",
       "      <td>28</td>\n",
       "      <td>37</td>\n",
       "      <td>31</td>\n",
       "      <td>22</td>\n",
       "      <td>92</td>\n",
       "      <td>...</td>\n",
       "      <td>29.56</td>\n",
       "      <td>10</td>\n",
       "      <td>8</td>\n",
       "      <td>1</td>\n",
       "      <td>23</td>\n",
       "      <td>10</td>\n",
       "      <td>36</td>\n",
       "      <td>0.18</td>\n",
       "      <td>0.18</td>\n",
       "      <td>Both</td>\n",
       "    </tr>\n",
       "    <tr>\n",
       "      <th>1</th>\n",
       "      <td>2008</td>\n",
       "      <td>1</td>\n",
       "      <td>2</td>\n",
       "      <td>33</td>\n",
       "      <td>22</td>\n",
       "      <td>10</td>\n",
       "      <td>28</td>\n",
       "      <td>18</td>\n",
       "      <td>-3</td>\n",
       "      <td>82</td>\n",
       "      <td>...</td>\n",
       "      <td>29.55</td>\n",
       "      <td>10</td>\n",
       "      <td>10</td>\n",
       "      <td>9</td>\n",
       "      <td>28</td>\n",
       "      <td>15</td>\n",
       "      <td>38</td>\n",
       "      <td>0.00</td>\n",
       "      <td>0.00</td>\n",
       "      <td>Snow</td>\n",
       "    </tr>\n",
       "    <tr>\n",
       "      <th>2</th>\n",
       "      <td>2008</td>\n",
       "      <td>1</td>\n",
       "      <td>3</td>\n",
       "      <td>14</td>\n",
       "      <td>11</td>\n",
       "      <td>7</td>\n",
       "      <td>-3</td>\n",
       "      <td>-7</td>\n",
       "      <td>-9</td>\n",
       "      <td>60</td>\n",
       "      <td>...</td>\n",
       "      <td>30.22</td>\n",
       "      <td>10</td>\n",
       "      <td>10</td>\n",
       "      <td>10</td>\n",
       "      <td>25</td>\n",
       "      <td>17</td>\n",
       "      <td>32</td>\n",
       "      <td>0.00</td>\n",
       "      <td>0.00</td>\n",
       "      <td>None</td>\n",
       "    </tr>\n",
       "    <tr>\n",
       "      <th>3</th>\n",
       "      <td>2008</td>\n",
       "      <td>1</td>\n",
       "      <td>4</td>\n",
       "      <td>32</td>\n",
       "      <td>20</td>\n",
       "      <td>8</td>\n",
       "      <td>13</td>\n",
       "      <td>5</td>\n",
       "      <td>-8</td>\n",
       "      <td>63</td>\n",
       "      <td>...</td>\n",
       "      <td>30.37</td>\n",
       "      <td>10</td>\n",
       "      <td>10</td>\n",
       "      <td>10</td>\n",
       "      <td>23</td>\n",
       "      <td>12</td>\n",
       "      <td>28</td>\n",
       "      <td>0.00</td>\n",
       "      <td>0.00</td>\n",
       "      <td>None</td>\n",
       "    </tr>\n",
       "    <tr>\n",
       "      <th>4</th>\n",
       "      <td>2008</td>\n",
       "      <td>1</td>\n",
       "      <td>5</td>\n",
       "      <td>42</td>\n",
       "      <td>35</td>\n",
       "      <td>27</td>\n",
       "      <td>26</td>\n",
       "      <td>16</td>\n",
       "      <td>12</td>\n",
       "      <td>64</td>\n",
       "      <td>...</td>\n",
       "      <td>30.17</td>\n",
       "      <td>10</td>\n",
       "      <td>10</td>\n",
       "      <td>10</td>\n",
       "      <td>16</td>\n",
       "      <td>9</td>\n",
       "      <td>23</td>\n",
       "      <td>0.00</td>\n",
       "      <td>0.00</td>\n",
       "      <td>None</td>\n",
       "    </tr>\n",
       "  </tbody>\n",
       "</table>\n",
       "<p>5 rows × 24 columns</p>\n",
       "</div>"
      ],
      "text/plain": [
       "   Year  Month  Day  High Temp (F)  Avg Temp (F)  Low Temp (F)  \\\n",
       "0  2008      1    1             40            34            28   \n",
       "1  2008      1    2             33            22            10   \n",
       "2  2008      1    3             14            11             7   \n",
       "3  2008      1    4             32            20             8   \n",
       "4  2008      1    5             42            35            27   \n",
       "\n",
       "   High Dew Point (F)  Avg Dew Point (F)  Low Dew Point (F)  \\\n",
       "0                  37                 31                 22   \n",
       "1                  28                 18                 -3   \n",
       "2                  -3                 -7                 -9   \n",
       "3                  13                  5                 -8   \n",
       "4                  26                 16                 12   \n",
       "\n",
       "   High Humidity (%)  ...  Low Sea Level Press (in)  High Visibility (mi)  \\\n",
       "0                 92  ...                     29.56                    10   \n",
       "1                 82  ...                     29.55                    10   \n",
       "2                 60  ...                     30.22                    10   \n",
       "3                 63  ...                     30.37                    10   \n",
       "4                 64  ...                     30.17                    10   \n",
       "\n",
       "   Avg Visibility (mi)  Low Visibility (mi)  High Wind (mph)  Avg Wind (mph)  \\\n",
       "0                    8                    1               23              10   \n",
       "1                   10                    9               28              15   \n",
       "2                   10                   10               25              17   \n",
       "3                   10                   10               23              12   \n",
       "4                   10                   10               16               9   \n",
       "\n",
       "   High Wind Gust (mph)  Snowfall (in)  Precip (in)  Events  \n",
       "0                    36           0.18         0.18    Both  \n",
       "1                    38           0.00         0.00    Snow  \n",
       "2                    32           0.00         0.00    None  \n",
       "3                    28           0.00         0.00    None  \n",
       "4                    23           0.00         0.00    None  \n",
       "\n",
       "[5 rows x 24 columns]"
      ]
     },
     "execution_count": 18,
     "metadata": {},
     "output_type": "execute_result"
    }
   ],
   "source": [
    "# Stores the data in a variable called data\n",
    "weather = pd.read_csv('weather.csv', encoding='latin-1')\n",
    "\n",
    "# Show top 5 rows\n",
    "weather.head()"
   ]
  },
  {
   "cell_type": "code",
   "execution_count": null,
   "metadata": {},
   "outputs": [],
   "source": []
  }
 ],
 "metadata": {
  "kernelspec": {
   "display_name": "Python 3",
   "language": "python",
   "name": "python3"
  },
  "language_info": {
   "codemirror_mode": {
    "name": "ipython",
    "version": 3
   },
   "file_extension": ".py",
   "mimetype": "text/x-python",
   "name": "python",
   "nbconvert_exporter": "python",
   "pygments_lexer": "ipython3",
   "version": "3.7.2"
  }
 },
 "nbformat": 4,
 "nbformat_minor": 2
}
